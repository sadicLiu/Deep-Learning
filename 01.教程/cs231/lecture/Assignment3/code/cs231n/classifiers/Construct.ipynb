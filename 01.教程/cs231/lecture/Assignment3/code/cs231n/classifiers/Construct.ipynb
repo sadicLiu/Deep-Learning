{
 "cells": [
  {
   "cell_type": "code",
   "execution_count": 1,
   "metadata": {},
   "outputs": [
    {
     "name": "stdout",
     "output_type": "stream",
     "text": [
      "x.shape: (1000, 224, 224, 3)\n"
     ]
    }
   ],
   "source": [
    "import tensorflow as tf\n",
    "import numpy as np\n",
    "\n",
    "x = np.zeros((1000,224,224,3))\n",
    "print('x.shape:', x.shape)"
   ]
  },
  {
   "cell_type": "markdown",
   "metadata": {},
   "source": [
    "## Test fire_module"
   ]
  },
  {
   "cell_type": "code",
   "execution_count": 2,
   "metadata": {
    "collapsed": true
   },
   "outputs": [],
   "source": [
    "def fire_module(x,inp,sp,e11p,e33p):\n",
    "    '''\n",
    "    A Fire module is comprised of:\n",
    "        a squeeze convolution layer(which has only 1x1 filters),\n",
    "        feeding into an expand layer that has a mix of 1x1 and 3x3 convolution filters\n",
    "    '''\n",
    "    # sp is the number of filters in the squeeze layer (all 1x1)\n",
    "    # e11p is the number of 1x1 filters in the expand layer\n",
    "    # e33p is the number of 3x3 filters in the expand layer\n",
    "    with tf.variable_scope(\"fire\"):\n",
    "        with tf.variable_scope(\"squeeze\"):\n",
    "            # inp是上一层输入（这里是x）的channel数，sp是这一层filter的depth\n",
    "            W = tf.get_variable(\"weights\",shape=[1,1,inp,sp])\n",
    "            b = tf.get_variable(\"bias\",shape=[sp])\n",
    "            s = tf.nn.conv2d(x,W,[1,1,1,1],\"VALID\")+b\n",
    "            s = tf.nn.relu(s)\n",
    "            print('s.shape:', s.shape)\n",
    "            \n",
    "        with tf.variable_scope(\"e11\"):\n",
    "            W = tf.get_variable(\"weights\",shape=[1,1,sp,e11p])\n",
    "            b = tf.get_variable(\"bias\",shape=[e11p])\n",
    "            e11 = tf.nn.conv2d(s,W,[1,1,1,1],\"VALID\")+b\n",
    "            e11 = tf.nn.relu(e11)\n",
    "            print('e11.shape:', e11.shape)\n",
    "\n",
    "        with tf.variable_scope(\"e33\"):\n",
    "            W = tf.get_variable(\"weights\",shape=[3,3,sp,e33p])\n",
    "            b = tf.get_variable(\"bias\",shape=[e33p])\n",
    "            e33 = tf.nn.conv2d(s,W,[1,1,1,1],\"SAME\")+b\n",
    "            e33 = tf.nn.relu(e33)   \n",
    "            print('e33.shape:', e33.shape)\n",
    "\n",
    "        return tf.concat([e11,e33],3)"
   ]
  },
  {
   "cell_type": "code",
   "execution_count": 3,
   "metadata": {},
   "outputs": [
    {
     "name": "stdout",
     "output_type": "stream",
     "text": [
      "x.shape: (1000, 111, 111, 64)\n"
     ]
    }
   ],
   "source": [
    "x = tf.to_float(x)\n",
    "# with tf.variable_scope('features', reuse=False):\n",
    "#     with tf.variable_scope('layer0'):\n",
    "#         W = tf.get_variable(\"weights\",shape=[3,3,3,64])\n",
    "#         b = tf.get_variable(\"bias\",shape=[64])\n",
    "#         x = tf.nn.conv2d(x,W,[1,2,2,1],\"VALID\")\n",
    "#         x = tf.nn.bias_add(x,b)    # (1000, 111, 111, 64)\n",
    "#         print('x.shape:', x.shape)\n",
    "#     with tf.variable_scope('layer1'):\n",
    "#         x = tf.nn.relu(x)\n",
    "#         print('x.shape:', x.shape)\n",
    "\n",
    "#     with tf.variable_scope('layer2'):\n",
    "#         x = tf.nn.max_pool(x,[1,3,3,1],strides=[1,2,2,1],padding='VALID')\n",
    "#         print('x.shape:', x.shape)\n",
    "\n",
    "#     with tf.variable_scope('layer3'):\n",
    "#         x = fire_module(x,64,16,64,64)\n",
    "#         print('x.shape:', x.shape)\n",
    "with tf.variable_scope('layer0'):\n",
    "    W = tf.get_variable(\"weights\",shape=[3,3,3,64])\n",
    "    b = tf.get_variable(\"bias\",shape=[64])\n",
    "    x = tf.nn.conv2d(x,W,[1,2,2,1],\"VALID\")\n",
    "    x = tf.nn.bias_add(x,b)\n",
    "with tf.variable_scope('layer1'):\n",
    "    x = tf.nn.relu(x)\n",
    "\n",
    "print('x.shape:', x.shape)"
   ]
  },
  {
   "cell_type": "code",
   "execution_count": 4,
   "metadata": {},
   "outputs": [
    {
     "name": "stdout",
     "output_type": "stream",
     "text": [
      "x.shape: (1000, 55, 55, 64)\n"
     ]
    }
   ],
   "source": [
    "with tf.variable_scope('layer2'):\n",
    "    x = tf.nn.max_pool(x,[1,3,3,1],strides=[1,2,2,1],padding='VALID')\n",
    "\n",
    "print('x.shape:', x.shape)"
   ]
  },
  {
   "cell_type": "code",
   "execution_count": 5,
   "metadata": {},
   "outputs": [
    {
     "name": "stdout",
     "output_type": "stream",
     "text": [
      "s.shape: (1000, 55, 55, 16)\n",
      "e11.shape: (1000, 55, 55, 64)\n",
      "e33.shape: (1000, 55, 55, 64)\n",
      "x.shape: (1000, 55, 55, 128)\n"
     ]
    }
   ],
   "source": [
    "with tf.variable_scope('layer3'):\n",
    "    x = fire_module(x,64,16,64,64)\n",
    "\n",
    "print('x.shape:', x.shape)"
   ]
  },
  {
   "cell_type": "code",
   "execution_count": 6,
   "metadata": {},
   "outputs": [
    {
     "name": "stdout",
     "output_type": "stream",
     "text": [
      "s.shape: (1000, 55, 55, 16)\n",
      "e11.shape: (1000, 55, 55, 64)\n",
      "e33.shape: (1000, 55, 55, 64)\n",
      "x.shape: (1000, 55, 55, 128)\n"
     ]
    }
   ],
   "source": [
    "with tf.variable_scope('layer4'):\n",
    "    x = fire_module(x,128,16,64,64)\n",
    "    \n",
    "print('x.shape:', x.shape)    "
   ]
  },
  {
   "cell_type": "code",
   "execution_count": 7,
   "metadata": {},
   "outputs": [
    {
     "name": "stdout",
     "output_type": "stream",
     "text": [
      "x.shape: (1000, 27, 27, 128)\n"
     ]
    }
   ],
   "source": [
    "with tf.variable_scope('layer5'):\n",
    "    x = tf.nn.max_pool(x,[1,3,3,1],strides=[1,2,2,1],padding='VALID')\n",
    "    \n",
    "print('x.shape:', x.shape)        "
   ]
  },
  {
   "cell_type": "code",
   "execution_count": 8,
   "metadata": {},
   "outputs": [
    {
     "name": "stdout",
     "output_type": "stream",
     "text": [
      "s.shape: (1000, 27, 27, 32)\n",
      "e11.shape: (1000, 27, 27, 128)\n",
      "e33.shape: (1000, 27, 27, 128)\n",
      "x.shape: (1000, 27, 27, 256)\n"
     ]
    }
   ],
   "source": [
    "with tf.variable_scope('layer6'):\n",
    "    x = fire_module(x,128,32,128,128)\n",
    "    \n",
    "print('x.shape:', x.shape)        "
   ]
  },
  {
   "cell_type": "code",
   "execution_count": 9,
   "metadata": {},
   "outputs": [
    {
     "name": "stdout",
     "output_type": "stream",
     "text": [
      "s.shape: (1000, 27, 27, 32)\n",
      "e11.shape: (1000, 27, 27, 128)\n",
      "e33.shape: (1000, 27, 27, 128)\n",
      "x.shape: (1000, 27, 27, 256)\n"
     ]
    }
   ],
   "source": [
    "with tf.variable_scope('layer7'):\n",
    "    x = fire_module(x,256,32,128,128)\n",
    "    \n",
    "print('x.shape:', x.shape)        "
   ]
  },
  {
   "cell_type": "code",
   "execution_count": 10,
   "metadata": {},
   "outputs": [
    {
     "name": "stdout",
     "output_type": "stream",
     "text": [
      "x.shape: (1000, 13, 13, 256)\n"
     ]
    }
   ],
   "source": [
    "with tf.variable_scope('layer8'):\n",
    "    x = tf.nn.max_pool(x,[1,3,3,1],strides=[1,2,2,1],padding='VALID')\n",
    "\n",
    "print('x.shape:', x.shape)        "
   ]
  },
  {
   "cell_type": "code",
   "execution_count": 11,
   "metadata": {},
   "outputs": [
    {
     "name": "stdout",
     "output_type": "stream",
     "text": [
      "s.shape: (1000, 13, 13, 48)\n",
      "e11.shape: (1000, 13, 13, 192)\n",
      "e33.shape: (1000, 13, 13, 192)\n",
      "x.shape: (1000, 13, 13, 384)\n"
     ]
    }
   ],
   "source": [
    "with tf.variable_scope('layer9'):\n",
    "    x = fire_module(x,256,48,192,192)\n",
    "    \n",
    "print('x.shape:', x.shape)        "
   ]
  },
  {
   "cell_type": "code",
   "execution_count": 12,
   "metadata": {},
   "outputs": [
    {
     "name": "stdout",
     "output_type": "stream",
     "text": [
      "s.shape: (1000, 13, 13, 48)\n",
      "e11.shape: (1000, 13, 13, 192)\n",
      "e33.shape: (1000, 13, 13, 192)\n",
      "x.shape: (1000, 13, 13, 384)\n"
     ]
    }
   ],
   "source": [
    "with tf.variable_scope('layer10'):\n",
    "    x = fire_module(x,384,48,192,192)\n",
    "    \n",
    "print('x.shape:', x.shape)        "
   ]
  },
  {
   "cell_type": "code",
   "execution_count": 13,
   "metadata": {},
   "outputs": [
    {
     "name": "stdout",
     "output_type": "stream",
     "text": [
      "s.shape: (1000, 13, 13, 64)\n",
      "e11.shape: (1000, 13, 13, 256)\n",
      "e33.shape: (1000, 13, 13, 256)\n",
      "x.shape: (1000, 13, 13, 512)\n"
     ]
    }
   ],
   "source": [
    "with tf.variable_scope('layer11'):\n",
    "    x = fire_module(x,384,64,256,256)\n",
    "\n",
    "print('x.shape:', x.shape)        "
   ]
  },
  {
   "cell_type": "code",
   "execution_count": 14,
   "metadata": {},
   "outputs": [
    {
     "name": "stdout",
     "output_type": "stream",
     "text": [
      "s.shape: (1000, 13, 13, 64)\n",
      "e11.shape: (1000, 13, 13, 256)\n",
      "e33.shape: (1000, 13, 13, 256)\n",
      "x.shape: (1000, 13, 13, 512)\n"
     ]
    }
   ],
   "source": [
    "with tf.variable_scope('layer12'):\n",
    "    x = fire_module(x,512,64,256,256)\n",
    "    \n",
    "print('x.shape:', x.shape)        "
   ]
  },
  {
   "cell_type": "code",
   "execution_count": 15,
   "metadata": {},
   "outputs": [
    {
     "name": "stdout",
     "output_type": "stream",
     "text": [
      "x.shape: (1000, 13, 13, 1000)\n"
     ]
    }
   ],
   "source": [
    "with tf.variable_scope('layer1'):\n",
    "    W = tf.get_variable(\"weights\",shape=[1,1,512,1000])\n",
    "    b = tf.get_variable(\"bias\",shape=[1000])\n",
    "    x = tf.nn.conv2d(x,W,[1,1,1,1],\"VALID\")\n",
    "    x = tf.nn.bias_add(x,b)\n",
    "\n",
    "print('x.shape:', x.shape)"
   ]
  },
  {
   "cell_type": "code",
   "execution_count": 16,
   "metadata": {},
   "outputs": [
    {
     "name": "stdout",
     "output_type": "stream",
     "text": [
      "x.shape: (1000, 1, 1, 1000)\n"
     ]
    }
   ],
   "source": [
    "with tf.variable_scope('layer2'):\n",
    "    x = tf.nn.avg_pool(x,[1,13,13,1],strides=[1,13,13,1],padding='VALID')\n",
    "\n",
    "print('x.shape:', x.shape)"
   ]
  }
 ],
 "metadata": {
  "kernelspec": {
   "display_name": "Python 3",
   "language": "python",
   "name": "python3"
  },
  "language_info": {
   "codemirror_mode": {
    "name": "ipython",
    "version": 3
   },
   "file_extension": ".py",
   "mimetype": "text/x-python",
   "name": "python",
   "nbconvert_exporter": "python",
   "pygments_lexer": "ipython3",
   "version": "3.5.3"
  }
 },
 "nbformat": 4,
 "nbformat_minor": 2
}
