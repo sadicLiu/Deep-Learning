{
 "cells": [
  {
   "cell_type": "code",
   "execution_count": 13,
   "metadata": {},
   "outputs": [
    {
     "name": "stdout",
     "output_type": "stream",
     "text": [
      "[ 0  1  2  3  4  5  6  7  8  9 10 11 12 13 14 15 16 17 18 19 20 21]\n",
      "[1 1 1 1 1 1 1 2 2 2 2 2 2 2 2 3 3 3 3 3 3 3]\n"
     ]
    }
   ],
   "source": [
    "import tensorflow as tf\n",
    "import numpy as np\n",
    "from tensorflow.python.framework import ops\n",
    "from tensorflow.python.ops import array_ops\n",
    "\n",
    "label_list = [1,1,1,1,1,1,1,2,2,2,2,2,2,2,2,3,3,3,3,3,3,3,3,3]\n",
    "labels = ops.convert_n_to_tensor(label_list, dtype=tf.int32)  # [1, 1, 1, 1, 1, 1, 1, 2, 2, 2, 2, 2, 2, 2, 2, 3, 3, 3, 3, 3, 3, 3, 3, 3]\n",
    "range_size = array_ops.shape(labels)[0]  # 24\n",
    "\n",
    "index_queue = tf.train.range_input_producer(range_size, num_epochs=None, shuffle=False, seed=None, capacity=32)\n",
    "index_dequeue_op = index_queue.dequeue_many(22, 'index_dequeue')\n",
    "\n",
    "sess = tf.Session()\n",
    "coord = tf.train.Coordinator()\n",
    "tf.train.start_queue_runners(coord=coord, sess=sess)\n",
    "# print(sess.run(labels))\n",
    "# print(sess.run(range_size))\n",
    "\n",
    "index_epoch = sess.run(index_dequeue_op)\n",
    "print(index_epoch)\n",
    "\n",
    "label_epoch = np.array(label_list)[index_epoch]\n",
    "print(label_epoch)    \n",
    "\n",
    "labels_array = np.expand_dims(np.array(label_epoch), 1)\n",
    "# print(labels_array)\n"
   ]
  }
 ],
 "metadata": {
  "kernelspec": {
   "display_name": "Python 3",
   "language": "python",
   "name": "python3"
  },
  "language_info": {
   "codemirror_mode": {
    "name": "ipython",
    "version": 3
   },
   "file_extension": ".py",
   "mimetype": "text/x-python",
   "name": "python",
   "nbconvert_exporter": "python",
   "pygments_lexer": "ipython3",
   "version": "3.6.4"
  }
 },
 "nbformat": 4,
 "nbformat_minor": 2
}
