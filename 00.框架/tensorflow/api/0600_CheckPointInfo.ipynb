{
 "cells": [
  {
   "cell_type": "code",
   "execution_count": 1,
   "metadata": {},
   "outputs": [
    {
     "name": "stderr",
     "output_type": "stream",
     "text": [
      "/home/liuhy/Program/anaconda2/lib/python2.7/site-packages/h5py/__init__.py:36: FutureWarning: Conversion of the second argument of issubdtype from `float` to `np.floating` is deprecated. In future, it will be treated as `np.float64 == np.dtype(float).type`.\n",
      "  from ._conv import register_converters as _register_converters\n"
     ]
    },
    {
     "name": "stdout",
     "output_type": "stream",
     "text": [
      "('tensor_name: ', 'u_w1')\n",
      "[1.4376599 1.8052897]\n",
      "('tensor_name: ', 'u_w2')\n",
      "[-0.5896513  -0.8539492  -1.6228075  -0.68754196  0.647225  ]\n"
     ]
    }
   ],
   "source": [
    "import os\n",
    "from tensorflow.python import pywrap_tensorflow\n",
    "\n",
    "model_dir='/home/liuhy/Data/models/facenet/20180402-114759'\n",
    "checkpoint_path = os.path.join(model_dir, \"model-20180402-114759.ckpt-275\")\n",
    "\n",
    "checkpoint_path = './saved_model/model-10'\n",
    "\n",
    "# Read data from checkpoint file\n",
    "reader = pywrap_tensorflow.NewCheckpointReader(checkpoint_path)\n",
    "var_to_shape_map = reader.get_variable_to_shape_map()\n",
    "\n",
    "# Print tensor name and values\n",
    "for key in var_to_shape_map:\n",
    "    print(\"tensor_name: \", key)\n",
    "    print(reader.get_tensor(key))"
   ]
  }
 ],
 "metadata": {
  "kernelspec": {
   "display_name": "Python 2",
   "language": "python",
   "name": "python2"
  },
  "language_info": {
   "codemirror_mode": {
    "name": "ipython",
    "version": 2
   },
   "file_extension": ".py",
   "mimetype": "text/x-python",
   "name": "python",
   "nbconvert_exporter": "python",
   "pygments_lexer": "ipython2",
   "version": "2.7.15"
  }
 },
 "nbformat": 4,
 "nbformat_minor": 2
}
