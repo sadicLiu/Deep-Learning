{
 "cells": [
  {
   "cell_type": "markdown",
   "metadata": {},
   "source": [
    "tf.add_to_collection：把变量放入一个集合，把很多变量变成一个列表\n",
    "\n",
    "tf.get_collection：从一个结合中取出全部变量，是一个列表\n",
    "\n",
    "tf.add_n：把一个列表的东西都依次加起来"
   ]
  },
  {
   "cell_type": "code",
   "execution_count": 1,
   "metadata": {},
   "outputs": [
    {
     "name": "stdout",
     "output_type": "stream",
     "text": [
      "[<tf.Variable 'v1:0' shape=(1,) dtype=float32_ref>, <tf.Variable 'v2:0' shape=(1,) dtype=float32_ref>]\n",
      "[3.]\n"
     ]
    }
   ],
   "source": [
    "import tensorflow as tf;    \n",
    "import numpy as np;    \n",
    "  \n",
    "v1 = tf.get_variable(name='v1', shape=[1], initializer=tf.constant_initializer(1))  \n",
    "tf.add_to_collection('loss', v1)  \n",
    "v2 = tf.get_variable(name='v2', shape=[1], initializer=tf.constant_initializer(2))  \n",
    "tf.add_to_collection('loss', v2)  \n",
    "  \n",
    "with tf.Session() as sess:  \n",
    "    sess.run(tf.global_variables_initializer())  \n",
    "    print(tf.get_collection('loss'))\n",
    "    print(sess.run(tf.add_n(tf.get_collection('loss'))))\n",
    "    sess.close()"
   ]
  }
 ],
 "metadata": {
  "kernelspec": {
   "display_name": "Python 3",
   "language": "python",
   "name": "python3"
  },
  "language_info": {
   "codemirror_mode": {
    "name": "ipython",
    "version": 3
   },
   "file_extension": ".py",
   "mimetype": "text/x-python",
   "name": "python",
   "nbconvert_exporter": "python",
   "pygments_lexer": "ipython3",
   "version": "3.6.4"
  }
 },
 "nbformat": 4,
 "nbformat_minor": 2
}
