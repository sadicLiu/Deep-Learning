{
 "cells": [
  {
   "cell_type": "code",
   "execution_count": 16,
   "metadata": {},
   "outputs": [
    {
     "name": "stdout",
     "output_type": "stream",
     "text": [
      "(3, 2)\n",
      "[[0.18898225 0.18898225]\n",
      " [0.3779645  0.3779645 ]\n",
      " [0.56694674 0.56694674]]\n",
      "0.7071067811865475\n",
      "0.7071067811865475\n",
      "0.2672612419124244\n"
     ]
    }
   ],
   "source": [
    "import tensorflow as tf\n",
    "import numpy as np\n",
    "\n",
    "sess = tf.InteractiveSession()\n",
    "\n",
    "x = np.array([[1, 1], [2, 2], [3, 3]])\n",
    "x = tf.constant(x, tf.float32)\n",
    "print(x.get_shape())\n",
    "\n",
    "x_norm = tf.nn.l2_normalize(x)\n",
    "print(x_norm.eval())\n",
    "\n",
    "print(1 / np.sqrt(2))\n",
    "print(2 / np.sqrt(8))\n",
    "print(1 / np.sqrt(14))"
   ]
  }
 ],
 "metadata": {
  "kernelspec": {
   "display_name": "Python 3",
   "language": "python",
   "name": "python3"
  },
  "language_info": {
   "codemirror_mode": {
    "name": "ipython",
    "version": 3
   },
   "file_extension": ".py",
   "mimetype": "text/x-python",
   "name": "python",
   "nbconvert_exporter": "python",
   "pygments_lexer": "ipython3",
   "version": "3.6.4"
  }
 },
 "nbformat": 4,
 "nbformat_minor": 2
}
