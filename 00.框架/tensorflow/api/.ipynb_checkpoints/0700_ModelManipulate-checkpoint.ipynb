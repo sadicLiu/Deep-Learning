{
 "cells": [
  {
   "cell_type": "markdown",
   "metadata": {},
   "source": [
    "## Save Model\n",
    "\n",
    "- write_meta_graph: 第一次保存模型时一起保存graph,之后只保存模型参数即可\n",
    "- max_to_keep\n",
    "- keep_checkpoint_every_n_hours"
   ]
  },
  {
   "cell_type": "code",
   "execution_count": 1,
   "metadata": {},
   "outputs": [
    {
     "name": "stderr",
     "output_type": "stream",
     "text": [
      "/home/liuhy/Program/anaconda2/lib/python2.7/site-packages/h5py/__init__.py:36: FutureWarning: Conversion of the second argument of issubdtype from `float` to `np.floating` is deprecated. In future, it will be treated as `np.float64 == np.dtype(float).type`.\n",
      "  from ._conv import register_converters as _register_converters\n"
     ]
    },
    {
     "name": "stdout",
     "output_type": "stream",
     "text": [
      "[[8. 8. 8. 8. 8. 8. 8. 8. 8. 8.]]\n"
     ]
    },
    {
     "data": {
      "text/plain": [
       "'./saved_model/model-10'"
      ]
     },
     "execution_count": 1,
     "metadata": {},
     "output_type": "execute_result"
    }
   ],
   "source": [
    "import tensorflow as tf\n",
    "import numpy as np\n",
    "import tensorflow.contrib.slim as slim\n",
    "\n",
    "input_placeholder = tf.placeholder(name='input', dtype=tf.float32, shape=[1, 8])  # 输入\n",
    "logits = slim.fully_connected(input_placeholder, 10, weights_initializer=tf.constant_initializer(1), activation_fn=None, scope='Logits', reuse=False)\n",
    "\n",
    "# 上面的操作不能设置name=‘...'，如果在测试阶段想要拿到它的值，可以用下面这两句\n",
    "logits = tf.identity(input=logits, name='logits')\n",
    "logits = tf.identity(input=logits, name='result')\n",
    "\n",
    "saver = tf.train.Saver(tf.trainable_variables())\n",
    "sess = tf.Session()\n",
    "sess.run(tf.global_variables_initializer())\n",
    "\n",
    "input = np.ones([1, 8], dtype=np.float32)\n",
    "print(sess.run(logits, feed_dict={input_placeholder: input}))\n",
    "\n",
    "model_save_path = './saved_model/model'\n",
    "saver.save(sess, model_save_path, global_step=10, write_meta_graph=True)"
   ]
  },
  {
   "cell_type": "markdown",
   "metadata": {},
   "source": [
    "## Import Model\n",
    "\n",
    "If you want to use someone else’s pre-trained model for fine-tuning, there are two things you need to do:\n",
    "1. Create the network\n",
    "2. Load the parameters"
   ]
  },
  {
   "cell_type": "code",
   "execution_count": 2,
   "metadata": {},
   "outputs": [
    {
     "name": "stdout",
     "output_type": "stream",
     "text": [
      "INFO:tensorflow:Restoring parameters from ./saved_model/model-10\n",
      "[[0. 0. 0. 0. 0. 0. 0. 0. 0. 0.]]\n"
     ]
    }
   ],
   "source": [
    "import tensorflow as tf\n",
    "\n",
    "tf.reset_default_graph()\n",
    "\n",
    "with tf.Session() as sess:\n",
    "    saver = tf.train.import_meta_graph('./saved_model/model-10.meta')  # 导入模型定义\n",
    "    saver.restore(sess, tf.train.latest_checkpoint('./saved_model'))   # 导入模型的值\n",
    "    input_placeholder = tf.get_default_graph().get_tensor_by_name('input:0')\n",
    "    \n",
    "    # 下面这两句等价的，因为上面做了tf.identity\n",
    "    # logits = tf.get_default_graph().get_tensor_by_name('logits:0')\n",
    "    logits = tf.get_default_graph().get_tensor_by_name('result:0')\n",
    "    \n",
    "    input = np.zeros([1, 8], dtype=np.float32)\n",
    "    feed_dict = {input_placeholder: input}\n",
    "    \n",
    "    result = sess.run(logits, feed_dict=feed_dict)\n",
    "    print(result)"
   ]
  },
  {
   "cell_type": "code",
   "execution_count": 3,
   "metadata": {},
   "outputs": [
    {
     "name": "stdout",
     "output_type": "stream",
     "text": [
      "('tensor_name: ', 'Logits/weights')\n",
      "[[1. 1. 1. 1. 1. 1. 1. 1. 1. 1.]\n",
      " [1. 1. 1. 1. 1. 1. 1. 1. 1. 1.]\n",
      " [1. 1. 1. 1. 1. 1. 1. 1. 1. 1.]\n",
      " [1. 1. 1. 1. 1. 1. 1. 1. 1. 1.]\n",
      " [1. 1. 1. 1. 1. 1. 1. 1. 1. 1.]\n",
      " [1. 1. 1. 1. 1. 1. 1. 1. 1. 1.]\n",
      " [1. 1. 1. 1. 1. 1. 1. 1. 1. 1.]\n",
      " [1. 1. 1. 1. 1. 1. 1. 1. 1. 1.]]\n",
      "('tensor_name: ', 'Logits/biases')\n",
      "[0. 0. 0. 0. 0. 0. 0. 0. 0. 0.]\n"
     ]
    }
   ],
   "source": [
    "import os\n",
    "from tensorflow.python import pywrap_tensorflow\n",
    "\n",
    "model_dir='/home/liuhy/Data/models/facenet/20180402-114759'\n",
    "checkpoint_path = './saved_model/model-10'\n",
    "\n",
    "# Read data from checkpoint file\n",
    "reader = pywrap_tensorflow.NewCheckpointReader(checkpoint_path)\n",
    "var_to_shape_map = reader.get_variable_to_shape_map()\n",
    "\n",
    "# Print tensor name and values\n",
    "for key in var_to_shape_map:\n",
    "    print(\"tensor_name: \", key)\n",
    "    print(reader.get_tensor(key))"
   ]
  }
 ],
 "metadata": {
  "kernelspec": {
   "display_name": "Python 2",
   "language": "python",
   "name": "python2"
  },
  "language_info": {
   "codemirror_mode": {
    "name": "ipython",
    "version": 2
   },
   "file_extension": ".py",
   "mimetype": "text/x-python",
   "name": "python",
   "nbconvert_exporter": "python",
   "pygments_lexer": "ipython2",
   "version": "2.7.15"
  }
 },
 "nbformat": 4,
 "nbformat_minor": 2
}
