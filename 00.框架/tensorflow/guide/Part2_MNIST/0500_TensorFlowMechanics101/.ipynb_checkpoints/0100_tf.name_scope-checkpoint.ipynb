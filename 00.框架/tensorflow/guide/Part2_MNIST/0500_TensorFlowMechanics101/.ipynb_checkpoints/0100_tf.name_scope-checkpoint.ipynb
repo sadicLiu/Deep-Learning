{
 "cells": [
  {
   "cell_type": "markdown",
   "metadata": {},
   "source": [
    "### tf.name_scope('scopeName')\n",
    "> name_scope(name)\n",
    "\n",
    "- Returns a context manager that creates hierarchical names for operations\n",
    "- A graph maintains a stack of name scopes. A `with name_scope(...):` statement pushes a new name onto the stack for the lifetime of the context."
   ]
  },
  {
   "cell_type": "code",
   "execution_count": 11,
   "metadata": {},
   "outputs": [
    {
     "name": "stdout",
     "output_type": "stream",
     "text": [
      "c\n",
      "c_1\n",
      "nested/c\n",
      "nested/inner/c\n",
      "nested/inner_1/c\n",
      "nested/d\n",
      "e\n"
     ]
    }
   ],
   "source": [
    "import tensorflow as tf\n",
    "\n",
    "with tf.Graph().as_default() as g:\n",
    "  c = tf.constant(5.0, name=\"c\")\n",
    "  assert c.op.name == \"c\"\n",
    "  print(c.op.name)\n",
    "    \n",
    "  c_1 = tf.constant(6.0, name=\"c\")\n",
    "  assert c_1.op.name == \"c_1\"\n",
    "  print(c_1.op.name)\n",
    "\n",
    "  # Creates a scope called \"nested\"\n",
    "  with g.name_scope(\"nested\") as scope:\n",
    "    nested_c = tf.constant(10.0, name=\"c\")\n",
    "    assert nested_c.op.name == \"nested/c\"\n",
    "    print(nested_c.op.name)\n",
    "\n",
    "    # Creates a nested scope called \"inner\".\n",
    "    with g.name_scope(\"inner\"):\n",
    "      nested_inner_c = tf.constant(20.0, name=\"c\")\n",
    "      assert nested_inner_c.op.name == \"nested/inner/c\"\n",
    "      print(nested_inner_c.op.name)\n",
    "\n",
    "    # Create a nested scope called \"inner_1\".\n",
    "    with g.name_scope(\"inner\"):\n",
    "      nested_inner_1_c = tf.constant(30.0, name=\"c\")\n",
    "      assert nested_inner_1_c.op.name == \"nested/inner_1/c\"\n",
    "      print(nested_inner_1_c.op.name)\n",
    "\n",
    "      # Treats `scope` as an absolute name scope, and\n",
    "      # switches to the \"nested/\" scope.\n",
    "      with g.name_scope(scope):\n",
    "        nested_d = tf.constant(40.0, name=\"d\")\n",
    "        assert nested_d.op.name == \"nested/d\"\n",
    "        print(nested_d.op.name)\n",
    "\n",
    "        with g.name_scope(\"\"):\n",
    "          e = tf.constant(50.0, name=\"e\")\n",
    "          assert e.op.name == \"e\"\n",
    "          print(e.op.name)"
   ]
  }
 ],
 "metadata": {
  "kernelspec": {
   "display_name": "Python 3",
   "language": "python",
   "name": "python3"
  },
  "language_info": {
   "codemirror_mode": {
    "name": "ipython",
    "version": 3
   },
   "file_extension": ".py",
   "mimetype": "text/x-python",
   "name": "python",
   "nbconvert_exporter": "python",
   "pygments_lexer": "ipython3",
   "version": "3.5.3"
  }
 },
 "nbformat": 4,
 "nbformat_minor": 2
}
