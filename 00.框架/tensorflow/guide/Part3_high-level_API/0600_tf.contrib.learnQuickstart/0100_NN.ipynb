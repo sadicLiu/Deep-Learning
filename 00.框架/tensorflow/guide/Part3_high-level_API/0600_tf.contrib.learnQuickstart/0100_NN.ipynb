{
 "cells": [
  {
   "cell_type": "markdown",
   "metadata": {},
   "source": [
    "### import"
   ]
  },
  {
   "cell_type": "code",
   "execution_count": 17,
   "metadata": {
    "collapsed": true
   },
   "outputs": [],
   "source": [
    "from __future__ import absolute_import\n",
    "from __future__ import division\n",
    "from __future__ import print_function\n",
    "import os\n",
    "import urllib.request\n",
    "import numpy as np\n",
    "import tensorflow as tf"
   ]
  },
  {
   "cell_type": "markdown",
   "metadata": {},
   "source": [
    "### get data"
   ]
  },
  {
   "cell_type": "code",
   "execution_count": 18,
   "metadata": {},
   "outputs": [],
   "source": [
    "# Data sets\n",
    "IRIS_TRAINING = \"iris_training.csv\"\n",
    "IRIS_TRAINING_URL = \"http://download.tensorflow.org/data/iris_training.csv\"\n",
    "IRIS_TEST = \"iris_test.csv\"\n",
    "IRIS_TEST_URL = \"http://download.tensorflow.org/data/iris_test.csv\"\n",
    "\n",
    "# If the training and test sets aren't stored locally, download them.\n",
    "if not os.path.exists(IRIS_TRAINING):\n",
    "    raw = urllib.request.urlopen(IRIS_TRAINING_URL).read()\n",
    "    with open(IRIS_TRAINING, \"wb\") as f:\n",
    "        f.write(raw)\n",
    "\n",
    "if not os.path.exists(IRIS_TEST):\n",
    "    raw = urllib.request.urlopen(IRIS_TEST_URL).read()\n",
    "    with open(IRIS_TEST, \"wb\") as f:\n",
    "        f.write(raw)\n",
    "\n",
    "# Load datasets.\n",
    "training_set = tf.contrib.learn.datasets.base.load_csv_with_header(\n",
    "    filename=IRIS_TRAINING, target_dtype=np.int, features_dtype=np.float32)\n",
    "test_set = tf.contrib.learn.datasets.base.load_csv_with_header(\n",
    "    filename=IRIS_TEST, target_dtype=np.int, features_dtype=np.float32)\n",
    "\n",
    "# Specify that all features have real-value data\n",
    "feature_columns = [tf.contrib.layers.real_valued_column(\"\", dimension=4)]"
   ]
  },
  {
   "cell_type": "markdown",
   "metadata": {},
   "source": [
    "### dataset utils\n",
    "由于数据量很小，可以把数据定义在常量中"
   ]
  },
  {
   "cell_type": "code",
   "execution_count": 19,
   "metadata": {
    "collapsed": true
   },
   "outputs": [],
   "source": [
    "# Define the training inputs\n",
    "def get_train_inputs():\n",
    "    x = tf.constant(training_set.data)\n",
    "    y = tf.constant(training_set.target)\n",
    "    return x, y\n",
    "\n",
    "# Define the test inputs\n",
    "def get_test_inputs():\n",
    "    x = tf.constant(test_set.data)\n",
    "    y = tf.constant(test_set.target)\n",
    "    return x, y\n",
    "\n",
    "# Classify two new flower samples.\n",
    "def new_samples():\n",
    "    return np.array([[6.4, 3.2, 4.5, 1.5], [5.8, 3.1, 5.0, 1.7]], dtype=np.float32)"
   ]
  },
  {
   "cell_type": "markdown",
   "metadata": {},
   "source": [
    "### train and test"
   ]
  },
  {
   "cell_type": "code",
   "execution_count": 20,
   "metadata": {},
   "outputs": [
    {
     "name": "stdout",
     "output_type": "stream",
     "text": [
      "INFO:tensorflow:Using default config.\n",
      "INFO:tensorflow:Using config: {'_num_ps_replicas': 0, '_keep_checkpoint_every_n_hours': 10000, '_tf_random_seed': None, '_task_id': 0, '_master': '', '_num_worker_replicas': 0, '_environment': 'local', '_model_dir': '/tmp/iris_model', '_is_chief': True, '_save_summary_steps': 100, '_evaluation_master': '', '_save_checkpoints_secs': 600, '_save_checkpoints_steps': None, '_task_type': None, '_session_config': None, '_cluster_spec': <tensorflow.python.training.server_lib.ClusterSpec object at 0x000001E6852B94A8>, '_tf_config': gpu_options {\n",
      "  per_process_gpu_memory_fraction: 1\n",
      "}\n",
      ", '_keep_checkpoint_max': 5}\n",
      "WARNING:tensorflow:From d:\\program files\\python35\\lib\\site-packages\\tensorflow\\contrib\\learn\\python\\learn\\estimators\\head.py:625: scalar_summary (from tensorflow.python.ops.logging_ops) is deprecated and will be removed after 2016-11-30.\n",
      "Instructions for updating:\n",
      "Please switch to tf.summary.scalar. Note that tf.summary.scalar uses the node name instead of the tag. This means that TensorFlow will automatically de-duplicate summary names based on the scope they are created in. Also, passing a tensor or list of tags to a scalar summary op is no longer supported.\n",
      "INFO:tensorflow:Create CheckpointSaverHook.\n",
      "INFO:tensorflow:Restoring parameters from /tmp/iris_model\\model.ckpt-2000\n",
      "INFO:tensorflow:Saving checkpoints for 2001 into /tmp/iris_model\\model.ckpt.\n",
      "INFO:tensorflow:step = 2001, loss = 0.0384164\n",
      "INFO:tensorflow:global_step/sec: 1352.36\n",
      "INFO:tensorflow:step = 2101, loss = 0.0379232 (0.090 sec)\n",
      "INFO:tensorflow:global_step/sec: 1185.83\n",
      "INFO:tensorflow:step = 2201, loss = 0.0374398 (0.084 sec)\n",
      "INFO:tensorflow:global_step/sec: 1211.85\n",
      "INFO:tensorflow:step = 2301, loss = 0.0369999 (0.083 sec)\n",
      "INFO:tensorflow:global_step/sec: 1206.34\n",
      "INFO:tensorflow:step = 2401, loss = 0.0365298 (0.083 sec)\n",
      "INFO:tensorflow:global_step/sec: 859.212\n",
      "INFO:tensorflow:step = 2501, loss = 0.0361437 (0.116 sec)\n",
      "INFO:tensorflow:global_step/sec: 762.946\n",
      "INFO:tensorflow:step = 2601, loss = 0.035722 (0.115 sec)\n",
      "INFO:tensorflow:global_step/sec: 1146.69\n",
      "INFO:tensorflow:step = 2701, loss = 0.0353394 (0.101 sec)\n",
      "INFO:tensorflow:global_step/sec: 1191.98\n",
      "INFO:tensorflow:step = 2801, loss = 0.0349558 (0.070 sec)\n",
      "INFO:tensorflow:global_step/sec: 1051.98\n",
      "INFO:tensorflow:step = 2901, loss = 0.034582 (0.099 sec)\n",
      "INFO:tensorflow:global_step/sec: 890.427\n",
      "INFO:tensorflow:step = 3001, loss = 0.0342542 (0.112 sec)\n",
      "INFO:tensorflow:global_step/sec: 797.534\n",
      "INFO:tensorflow:step = 3101, loss = 0.0338733 (0.121 sec)\n",
      "INFO:tensorflow:global_step/sec: 1006.18\n",
      "INFO:tensorflow:step = 3201, loss = 0.033544 (0.099 sec)\n",
      "INFO:tensorflow:global_step/sec: 1494.43\n",
      "INFO:tensorflow:step = 3301, loss = 0.0332125 (0.083 sec)\n",
      "INFO:tensorflow:global_step/sec: 1199.3\n",
      "INFO:tensorflow:step = 3401, loss = 0.0329012 (0.068 sec)\n",
      "INFO:tensorflow:global_step/sec: 1326.83\n",
      "INFO:tensorflow:step = 3501, loss = 0.0325564 (0.075 sec)\n",
      "INFO:tensorflow:global_step/sec: 1340.67\n",
      "INFO:tensorflow:step = 3601, loss = 0.0322645 (0.075 sec)\n",
      "INFO:tensorflow:global_step/sec: 1206.9\n",
      "INFO:tensorflow:step = 3701, loss = 0.0319892 (0.083 sec)\n",
      "INFO:tensorflow:global_step/sec: 1202.12\n",
      "INFO:tensorflow:step = 3801, loss = 0.0316605 (0.088 sec)\n",
      "INFO:tensorflow:global_step/sec: 1028.17\n",
      "INFO:tensorflow:step = 3901, loss = 0.0313794 (0.096 sec)\n",
      "INFO:tensorflow:Saving checkpoints for 4000 into /tmp/iris_model\\model.ckpt.\n",
      "INFO:tensorflow:Loss for final step: 0.0308116.\n",
      "WARNING:tensorflow:From d:\\program files\\python35\\lib\\site-packages\\tensorflow\\contrib\\learn\\python\\learn\\estimators\\head.py:625: scalar_summary (from tensorflow.python.ops.logging_ops) is deprecated and will be removed after 2016-11-30.\n",
      "Instructions for updating:\n",
      "Please switch to tf.summary.scalar. Note that tf.summary.scalar uses the node name instead of the tag. This means that TensorFlow will automatically de-duplicate summary names based on the scope they are created in. Also, passing a tensor or list of tags to a scalar summary op is no longer supported.\n",
      "INFO:tensorflow:Starting evaluation at 2017-06-24-03:12:34\n",
      "INFO:tensorflow:Restoring parameters from /tmp/iris_model\\model.ckpt-4000\n",
      "INFO:tensorflow:Evaluation [1/1]\n",
      "INFO:tensorflow:Finished evaluation at 2017-06-24-03:12:35\n",
      "INFO:tensorflow:Saving dict for global step 4000: accuracy = 0.966667, global_step = 4000, loss = 0.0992193\n",
      "\n",
      "Test Accuracy: 0.966667\n",
      "\n",
      "WARNING:tensorflow:From d:\\program files\\python35\\lib\\site-packages\\tensorflow\\python\\util\\deprecation.py:347: calling DNNClassifier.predict (from tensorflow.contrib.learn.python.learn.estimators.dnn) with outputs=None is deprecated and will be removed after 2017-03-01.\n",
      "Instructions for updating:\n",
      "Please switch to predict_classes, or set `outputs` argument.\n",
      "INFO:tensorflow:Restoring parameters from /tmp/iris_model\\model.ckpt-4000\n",
      "New Samples, Class Predictions: [1, 2]\n",
      "\n"
     ]
    }
   ],
   "source": [
    "# Build 3 layer DNN with 10, 20, 10 units respectively.\n",
    "classifier = tf.contrib.learn.DNNClassifier(\n",
    "    feature_columns=feature_columns, hidden_units=[10, 20, 10], n_classes=3, model_dir=\"/tmp/iris_model\")\n",
    "\n",
    "# Fit model.\n",
    "classifier.fit(input_fn=get_train_inputs, steps=2000)\n",
    "\n",
    "# Evaluate accuracy.\n",
    "accuracy_score = classifier.evaluate(input_fn=get_test_inputs, steps=1)[\"accuracy\"]\n",
    "print(\"\\nTest Accuracy: {0:f}\\n\".format(accuracy_score))\n",
    "\n",
    "predictions = list(classifier.predict(input_fn=new_samples))\n",
    "print(\"New Samples, Class Predictions: {}\\n\".format(predictions))"
   ]
  }
 ],
 "metadata": {
  "kernelspec": {
   "display_name": "Python 3",
   "language": "python",
   "name": "python3"
  },
  "language_info": {
   "codemirror_mode": {
    "name": "ipython",
    "version": 3
   },
   "file_extension": ".py",
   "mimetype": "text/x-python",
   "name": "python",
   "nbconvert_exporter": "python",
   "pygments_lexer": "ipython3",
   "version": "3.5.3"
  }
 },
 "nbformat": 4,
 "nbformat_minor": 2
}
