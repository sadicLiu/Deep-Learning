{
 "cells": [
  {
   "cell_type": "markdown",
   "metadata": {},
   "source": [
    "### import"
   ]
  },
  {
   "cell_type": "code",
   "execution_count": 2,
   "metadata": {
    "collapsed": true
   },
   "outputs": [],
   "source": [
    "from __future__ import absolute_import\n",
    "from __future__ import division\n",
    "from __future__ import print_function\n",
    "import itertools\n",
    "import pandas as pd\n",
    "import tensorflow as tf\n",
    "tf.logging.set_verbosity(tf.logging.INFO)"
   ]
  },
  {
   "cell_type": "markdown",
   "metadata": {},
   "source": [
    "### load data"
   ]
  },
  {
   "cell_type": "code",
   "execution_count": 3,
   "metadata": {
    "collapsed": true
   },
   "outputs": [],
   "source": [
    "COLUMNS = [\"crim\", \"zn\", \"indus\", \"nox\", \"rm\", \"age\", \"dis\", \"tax\", \"ptratio\", \"medv\"]\n",
    "FEATURES = [\"crim\", \"zn\", \"indus\", \"nox\", \"rm\", \"age\", \"dis\", \"tax\", \"ptratio\"]\n",
    "LABEL = \"medv\"\n",
    "\n",
    "training_set = pd.read_csv(\"boston_train.csv\", skipinitialspace=True, skiprows=1, names=COLUMNS)\n",
    "test_set = pd.read_csv(\"boston_test.csv\", skipinitialspace=True, skiprows=1, names=COLUMNS)\n",
    "prediction_set = pd.read_csv(\"boston_predict.csv\", skipinitialspace=True, skiprows=1, names=COLUMNS)"
   ]
  },
  {
   "cell_type": "markdown",
   "metadata": {},
   "source": [
    "### create a list of FeatureColumns for the input data"
   ]
  },
  {
   "cell_type": "code",
   "execution_count": 4,
   "metadata": {
    "collapsed": true
   },
   "outputs": [],
   "source": [
    "feature_cols = [tf.contrib.layers.real_valued_column(k) for k in FEATURES]"
   ]
  },
  {
   "cell_type": "markdown",
   "metadata": {},
   "source": [
    "### instantiate a DNNRegressor"
   ]
  },
  {
   "cell_type": "code",
   "execution_count": 5,
   "metadata": {},
   "outputs": [
    {
     "name": "stdout",
     "output_type": "stream",
     "text": [
      "INFO:tensorflow:Using default config.\n",
      "INFO:tensorflow:Using config: {'_model_dir': '/tmp/boston_model', '_keep_checkpoint_every_n_hours': 10000, '_session_config': None, '_save_checkpoints_secs': 600, '_tf_random_seed': None, '_cluster_spec': <tensorflow.python.training.server_lib.ClusterSpec object at 0x000002F3B840C9E8>, '_evaluation_master': '', '_master': '', '_save_checkpoints_steps': None, '_environment': 'local', '_task_type': None, '_task_id': 0, '_num_worker_replicas': 0, '_keep_checkpoint_max': 5, '_num_ps_replicas': 0, '_save_summary_steps': 100, '_tf_config': gpu_options {\n",
      "  per_process_gpu_memory_fraction: 1\n",
      "}\n",
      ", '_is_chief': True}\n"
     ]
    }
   ],
   "source": [
    "regressor = tf.contrib.learn.DNNRegressor(\n",
    "    feature_columns=feature_cols, hidden_units=[10, 10], model_dir=\"/tmp/boston_model\")"
   ]
  },
  {
   "cell_type": "markdown",
   "metadata": {},
   "source": [
    "### define input_fn"
   ]
  },
  {
   "cell_type": "code",
   "execution_count": 6,
   "metadata": {
    "collapsed": true
   },
   "outputs": [],
   "source": [
    "def input_fn(data_set):\n",
    "    feature_cols = {k: tf.constant(data_set[k].values) \n",
    "                    for k in COLUMNS}\n",
    "    labels = tf.constant(data_set[LABEL].values)\n",
    "    \n",
    "    return feature_cols, labels"
   ]
  },
  {
   "cell_type": "markdown",
   "metadata": {},
   "source": [
    "### training the Regressor"
   ]
  },
  {
   "cell_type": "code",
   "execution_count": 7,
   "metadata": {},
   "outputs": [
    {
     "name": "stdout",
     "output_type": "stream",
     "text": [
      "WARNING:tensorflow:Rank of input Tensor (1) should be the same as output_rank (2) for column. Will attempt to expand dims. It is highly recommended that you resize your input, as this behavior may change.\n",
      "WARNING:tensorflow:Rank of input Tensor (1) should be the same as output_rank (2) for column. Will attempt to expand dims. It is highly recommended that you resize your input, as this behavior may change.\n",
      "WARNING:tensorflow:Rank of input Tensor (1) should be the same as output_rank (2) for column. Will attempt to expand dims. It is highly recommended that you resize your input, as this behavior may change.\n",
      "WARNING:tensorflow:Rank of input Tensor (1) should be the same as output_rank (2) for column. Will attempt to expand dims. It is highly recommended that you resize your input, as this behavior may change.\n",
      "WARNING:tensorflow:Rank of input Tensor (1) should be the same as output_rank (2) for column. Will attempt to expand dims. It is highly recommended that you resize your input, as this behavior may change.\n",
      "WARNING:tensorflow:Rank of input Tensor (1) should be the same as output_rank (2) for column. Will attempt to expand dims. It is highly recommended that you resize your input, as this behavior may change.\n",
      "WARNING:tensorflow:Rank of input Tensor (1) should be the same as output_rank (2) for column. Will attempt to expand dims. It is highly recommended that you resize your input, as this behavior may change.\n",
      "WARNING:tensorflow:Rank of input Tensor (1) should be the same as output_rank (2) for column. Will attempt to expand dims. It is highly recommended that you resize your input, as this behavior may change.\n",
      "WARNING:tensorflow:Rank of input Tensor (1) should be the same as output_rank (2) for column. Will attempt to expand dims. It is highly recommended that you resize your input, as this behavior may change.\n",
      "WARNING:tensorflow:From d:\\program files\\python35\\lib\\site-packages\\tensorflow\\contrib\\learn\\python\\learn\\estimators\\head.py:625: scalar_summary (from tensorflow.python.ops.logging_ops) is deprecated and will be removed after 2016-11-30.\n",
      "Instructions for updating:\n",
      "Please switch to tf.summary.scalar. Note that tf.summary.scalar uses the node name instead of the tag. This means that TensorFlow will automatically de-duplicate summary names based on the scope they are created in. Also, passing a tensor or list of tags to a scalar summary op is no longer supported.\n",
      "INFO:tensorflow:Create CheckpointSaverHook.\n",
      "INFO:tensorflow:Restoring parameters from /tmp/boston_model\\model.ckpt-5000\n",
      "INFO:tensorflow:Saving checkpoints for 5001 into /tmp/boston_model\\model.ckpt.\n",
      "INFO:tensorflow:step = 5001, loss = 30.8576\n",
      "INFO:tensorflow:global_step/sec: 1173.86\n",
      "INFO:tensorflow:step = 5101, loss = 30.9358 (0.087 sec)\n",
      "INFO:tensorflow:global_step/sec: 1173.34\n",
      "INFO:tensorflow:step = 5201, loss = 30.8287 (0.085 sec)\n",
      "INFO:tensorflow:global_step/sec: 1173.35\n",
      "INFO:tensorflow:step = 5301, loss = 30.6917 (0.086 sec)\n",
      "INFO:tensorflow:global_step/sec: 1172.88\n",
      "INFO:tensorflow:step = 5401, loss = 30.3708 (0.085 sec)\n",
      "INFO:tensorflow:global_step/sec: 1160.15\n",
      "INFO:tensorflow:step = 5501, loss = 30.4619 (0.084 sec)\n",
      "INFO:tensorflow:global_step/sec: 1172.83\n",
      "INFO:tensorflow:step = 5601, loss = 30.0918 (0.087 sec)\n",
      "INFO:tensorflow:global_step/sec: 1173.85\n",
      "INFO:tensorflow:step = 5701, loss = 30.2717 (0.084 sec)\n",
      "INFO:tensorflow:global_step/sec: 1187.3\n",
      "INFO:tensorflow:step = 5801, loss = 30.6892 (0.084 sec)\n",
      "INFO:tensorflow:global_step/sec: 1187.31\n",
      "INFO:tensorflow:step = 5901, loss = 30.1905 (0.084 sec)\n",
      "INFO:tensorflow:global_step/sec: 1173.35\n",
      "INFO:tensorflow:step = 6001, loss = 29.7291 (0.086 sec)\n",
      "INFO:tensorflow:global_step/sec: 1173.33\n",
      "INFO:tensorflow:step = 6101, loss = 30.1015 (0.085 sec)\n",
      "INFO:tensorflow:global_step/sec: 1159.71\n",
      "INFO:tensorflow:step = 6201, loss = 30.302 (0.085 sec)\n",
      "INFO:tensorflow:global_step/sec: 1187.31\n",
      "INFO:tensorflow:step = 6301, loss = 29.8815 (0.084 sec)\n",
      "INFO:tensorflow:global_step/sec: 1146.32\n",
      "INFO:tensorflow:step = 6401, loss = 29.8589 (0.087 sec)\n",
      "INFO:tensorflow:global_step/sec: 1159.75\n",
      "INFO:tensorflow:step = 6501, loss = 29.7098 (0.086 sec)\n",
      "INFO:tensorflow:global_step/sec: 1173.33\n",
      "INFO:tensorflow:step = 6601, loss = 30.3316 (0.085 sec)\n",
      "INFO:tensorflow:global_step/sec: 1173.35\n",
      "INFO:tensorflow:step = 6701, loss = 29.7879 (0.085 sec)\n",
      "INFO:tensorflow:global_step/sec: 1159.68\n",
      "INFO:tensorflow:step = 6801, loss = 29.5348 (0.086 sec)\n",
      "INFO:tensorflow:global_step/sec: 1173.37\n",
      "INFO:tensorflow:step = 6901, loss = 29.753 (0.085 sec)\n",
      "INFO:tensorflow:global_step/sec: 1159.7\n",
      "INFO:tensorflow:step = 7001, loss = 29.9528 (0.087 sec)\n",
      "INFO:tensorflow:global_step/sec: 1159.67\n",
      "INFO:tensorflow:step = 7101, loss = 29.5493 (0.085 sec)\n",
      "INFO:tensorflow:global_step/sec: 1201.64\n",
      "INFO:tensorflow:step = 7201, loss = 29.9253 (0.084 sec)\n",
      "INFO:tensorflow:global_step/sec: 1084.06\n",
      "INFO:tensorflow:step = 7301, loss = 29.7235 (0.092 sec)\n",
      "INFO:tensorflow:global_step/sec: 949.84\n",
      "INFO:tensorflow:step = 7401, loss = 29.8718 (0.104 sec)\n",
      "INFO:tensorflow:global_step/sec: 997.352\n",
      "INFO:tensorflow:step = 7501, loss = 29.4466 (0.101 sec)\n",
      "INFO:tensorflow:global_step/sec: 1173.35\n",
      "INFO:tensorflow:step = 7601, loss = 29.9502 (0.083 sec)\n",
      "INFO:tensorflow:global_step/sec: 1246.68\n",
      "INFO:tensorflow:step = 7701, loss = 29.694 (0.081 sec)\n",
      "INFO:tensorflow:global_step/sec: 1262.45\n",
      "INFO:tensorflow:step = 7801, loss = 29.6842 (0.079 sec)\n",
      "INFO:tensorflow:global_step/sec: 1095.96\n",
      "INFO:tensorflow:step = 7901, loss = 29.8159 (0.091 sec)\n",
      "INFO:tensorflow:global_step/sec: 1017.69\n",
      "INFO:tensorflow:step = 8001, loss = 29.7303 (0.098 sec)\n",
      "INFO:tensorflow:global_step/sec: 1216.28\n",
      "INFO:tensorflow:step = 8101, loss = 29.655 (0.082 sec)\n",
      "INFO:tensorflow:global_step/sec: 1084.05\n",
      "INFO:tensorflow:step = 8201, loss = 29.4745 (0.093 sec)\n",
      "INFO:tensorflow:global_step/sec: 1084.07\n",
      "INFO:tensorflow:step = 8301, loss = 29.3447 (0.092 sec)\n",
      "INFO:tensorflow:global_step/sec: 1072.43\n",
      "INFO:tensorflow:step = 8401, loss = 28.8999 (0.092 sec)\n",
      "INFO:tensorflow:global_step/sec: 1231.27\n",
      "INFO:tensorflow:step = 8501, loss = 28.9429 (0.081 sec)\n",
      "INFO:tensorflow:global_step/sec: 1278.65\n",
      "INFO:tensorflow:step = 8601, loss = 28.9351 (0.078 sec)\n",
      "INFO:tensorflow:global_step/sec: 1187.3\n",
      "INFO:tensorflow:step = 8701, loss = 28.8825 (0.086 sec)\n",
      "INFO:tensorflow:global_step/sec: 1017.69\n",
      "INFO:tensorflow:step = 8801, loss = 28.6294 (0.097 sec)\n",
      "INFO:tensorflow:global_step/sec: 1028.19\n",
      "INFO:tensorflow:step = 8901, loss = 28.6396 (0.096 sec)\n",
      "INFO:tensorflow:global_step/sec: 1133.34\n",
      "INFO:tensorflow:step = 9001, loss = 28.6865 (0.088 sec)\n",
      "INFO:tensorflow:global_step/sec: 1049.83\n",
      "INFO:tensorflow:step = 9101, loss = 28.7515 (0.095 sec)\n",
      "INFO:tensorflow:global_step/sec: 1159.71\n",
      "INFO:tensorflow:step = 9201, loss = 28.7374 (0.087 sec)\n",
      "INFO:tensorflow:global_step/sec: 1347.75\n",
      "INFO:tensorflow:step = 9301, loss = 28.7221 (0.073 sec)\n",
      "INFO:tensorflow:global_step/sec: 1246.68\n",
      "INFO:tensorflow:step = 9401, loss = 28.7255 (0.079 sec)\n",
      "INFO:tensorflow:global_step/sec: 1278.64\n",
      "INFO:tensorflow:step = 9501, loss = 28.6146 (0.079 sec)\n",
      "INFO:tensorflow:global_step/sec: 1312.28\n",
      "INFO:tensorflow:step = 9601, loss = 28.5938 (0.076 sec)\n",
      "INFO:tensorflow:global_step/sec: 1347.76\n",
      "INFO:tensorflow:step = 9701, loss = 28.5904 (0.074 sec)\n",
      "INFO:tensorflow:global_step/sec: 1246.68\n",
      "INFO:tensorflow:step = 9801, loss = 28.5376 (0.079 sec)\n",
      "INFO:tensorflow:global_step/sec: 1347.73\n",
      "INFO:tensorflow:step = 9901, loss = 28.5185 (0.075 sec)\n",
      "INFO:tensorflow:Saving checkpoints for 10000 into /tmp/boston_model\\model.ckpt.\n",
      "INFO:tensorflow:Loss for final step: 28.4601.\n"
     ]
    },
    {
     "data": {
      "text/plain": [
       "DNNRegressor(params={'hidden_units': [10, 10], 'head': <tensorflow.contrib.learn.python.learn.estimators.head._RegressionHead object at 0x000002F3B8319CC0>, 'feature_columns': (_RealValuedColumn(column_name='crim', dimension=1, default_value=None, dtype=tf.float32, normalizer=None), _RealValuedColumn(column_name='zn', dimension=1, default_value=None, dtype=tf.float32, normalizer=None), _RealValuedColumn(column_name='indus', dimension=1, default_value=None, dtype=tf.float32, normalizer=None), _RealValuedColumn(column_name='nox', dimension=1, default_value=None, dtype=tf.float32, normalizer=None), _RealValuedColumn(column_name='rm', dimension=1, default_value=None, dtype=tf.float32, normalizer=None), _RealValuedColumn(column_name='age', dimension=1, default_value=None, dtype=tf.float32, normalizer=None), _RealValuedColumn(column_name='dis', dimension=1, default_value=None, dtype=tf.float32, normalizer=None), _RealValuedColumn(column_name='tax', dimension=1, default_value=None, dtype=tf.float32, normalizer=None), _RealValuedColumn(column_name='ptratio', dimension=1, default_value=None, dtype=tf.float32, normalizer=None)), 'activation_fn': <function relu at 0x000002F3B5D60BF8>, 'input_layer_min_slice_size': None, 'dropout': None, 'embedding_lr_multipliers': None, 'optimizer': None, 'gradient_clip_norm': None})"
      ]
     },
     "execution_count": 7,
     "metadata": {},
     "output_type": "execute_result"
    }
   ],
   "source": [
    "regressor.fit(input_fn=lambda: input_fn(training_set), steps=5000)"
   ]
  },
  {
   "cell_type": "markdown",
   "metadata": {},
   "source": [
    "### evaluate the model use test_set"
   ]
  },
  {
   "cell_type": "code",
   "execution_count": 8,
   "metadata": {},
   "outputs": [
    {
     "name": "stdout",
     "output_type": "stream",
     "text": [
      "WARNING:tensorflow:Rank of input Tensor (1) should be the same as output_rank (2) for column. Will attempt to expand dims. It is highly recommended that you resize your input, as this behavior may change.\n",
      "WARNING:tensorflow:Rank of input Tensor (1) should be the same as output_rank (2) for column. Will attempt to expand dims. It is highly recommended that you resize your input, as this behavior may change.\n",
      "WARNING:tensorflow:Rank of input Tensor (1) should be the same as output_rank (2) for column. Will attempt to expand dims. It is highly recommended that you resize your input, as this behavior may change.\n",
      "WARNING:tensorflow:Rank of input Tensor (1) should be the same as output_rank (2) for column. Will attempt to expand dims. It is highly recommended that you resize your input, as this behavior may change.\n",
      "WARNING:tensorflow:Rank of input Tensor (1) should be the same as output_rank (2) for column. Will attempt to expand dims. It is highly recommended that you resize your input, as this behavior may change.\n",
      "WARNING:tensorflow:Rank of input Tensor (1) should be the same as output_rank (2) for column. Will attempt to expand dims. It is highly recommended that you resize your input, as this behavior may change.\n",
      "WARNING:tensorflow:Rank of input Tensor (1) should be the same as output_rank (2) for column. Will attempt to expand dims. It is highly recommended that you resize your input, as this behavior may change.\n",
      "WARNING:tensorflow:Rank of input Tensor (1) should be the same as output_rank (2) for column. Will attempt to expand dims. It is highly recommended that you resize your input, as this behavior may change.\n",
      "WARNING:tensorflow:Rank of input Tensor (1) should be the same as output_rank (2) for column. Will attempt to expand dims. It is highly recommended that you resize your input, as this behavior may change.\n",
      "WARNING:tensorflow:From d:\\program files\\python35\\lib\\site-packages\\tensorflow\\contrib\\learn\\python\\learn\\estimators\\head.py:625: scalar_summary (from tensorflow.python.ops.logging_ops) is deprecated and will be removed after 2016-11-30.\n",
      "Instructions for updating:\n",
      "Please switch to tf.summary.scalar. Note that tf.summary.scalar uses the node name instead of the tag. This means that TensorFlow will automatically de-duplicate summary names based on the scope they are created in. Also, passing a tensor or list of tags to a scalar summary op is no longer supported.\n",
      "INFO:tensorflow:Starting evaluation at 2017-06-25-00:50:30\n",
      "INFO:tensorflow:Restoring parameters from /tmp/boston_model\\model.ckpt-10000\n",
      "INFO:tensorflow:Evaluation [1/1]\n",
      "INFO:tensorflow:Finished evaluation at 2017-06-25-00:50:31\n",
      "INFO:tensorflow:Saving dict for global step 10000: global_step = 10000, loss = 12.2481\n"
     ]
    },
    {
     "data": {
      "text/plain": [
       "{'global_step': 10000, 'loss': 12.248066}"
      ]
     },
     "execution_count": 8,
     "metadata": {},
     "output_type": "execute_result"
    }
   ],
   "source": [
    "regressor.evaluate(input_fn=lambda: input_fn(test_set), steps=1)"
   ]
  },
  {
   "cell_type": "markdown",
   "metadata": {},
   "source": [
    "### predict"
   ]
  },
  {
   "cell_type": "code",
   "execution_count": 17,
   "metadata": {},
   "outputs": [
    {
     "name": "stdout",
     "output_type": "stream",
     "text": [
      "WARNING:tensorflow:From d:\\program files\\python35\\lib\\site-packages\\tensorflow\\python\\util\\deprecation.py:347: calling DNNRegressor.predict (from tensorflow.contrib.learn.python.learn.estimators.dnn) with outputs=None is deprecated and will be removed after 2017-03-01.\n",
      "Instructions for updating:\n",
      "Please switch to predict_scores, or set `outputs` argument.\n",
      "WARNING:tensorflow:Rank of input Tensor (1) should be the same as output_rank (2) for column. Will attempt to expand dims. It is highly recommended that you resize your input, as this behavior may change.\n",
      "WARNING:tensorflow:Rank of input Tensor (1) should be the same as output_rank (2) for column. Will attempt to expand dims. It is highly recommended that you resize your input, as this behavior may change.\n",
      "WARNING:tensorflow:Rank of input Tensor (1) should be the same as output_rank (2) for column. Will attempt to expand dims. It is highly recommended that you resize your input, as this behavior may change.\n",
      "WARNING:tensorflow:Rank of input Tensor (1) should be the same as output_rank (2) for column. Will attempt to expand dims. It is highly recommended that you resize your input, as this behavior may change.\n",
      "WARNING:tensorflow:Rank of input Tensor (1) should be the same as output_rank (2) for column. Will attempt to expand dims. It is highly recommended that you resize your input, as this behavior may change.\n",
      "WARNING:tensorflow:Rank of input Tensor (1) should be the same as output_rank (2) for column. Will attempt to expand dims. It is highly recommended that you resize your input, as this behavior may change.\n",
      "WARNING:tensorflow:Rank of input Tensor (1) should be the same as output_rank (2) for column. Will attempt to expand dims. It is highly recommended that you resize your input, as this behavior may change.\n",
      "WARNING:tensorflow:Rank of input Tensor (1) should be the same as output_rank (2) for column. Will attempt to expand dims. It is highly recommended that you resize your input, as this behavior may change.\n",
      "WARNING:tensorflow:Rank of input Tensor (1) should be the same as output_rank (2) for column. Will attempt to expand dims. It is highly recommended that you resize your input, as this behavior may change.\n",
      "INFO:tensorflow:Restoring parameters from /tmp/boston_model\\model.ckpt-10000\n",
      "Predictions are: [34.008389, 17.746494, 23.988209, 35.738541, 14.649699, 17.59886]\n",
      "y: []\n"
     ]
    }
   ],
   "source": [
    "y = regressor.predict(input_fn=lambda: input_fn(prediction_set))\n",
    "\n",
    "predictions = list(itertools.islice(y, 6))\n",
    "print(\"Predictions are: {}\".format(predictions))"
   ]
  }
 ],
 "metadata": {
  "kernelspec": {
   "display_name": "Python 3",
   "language": "python",
   "name": "python3"
  },
  "language_info": {
   "codemirror_mode": {
    "name": "ipython",
    "version": 3
   },
   "file_extension": ".py",
   "mimetype": "text/x-python",
   "name": "python",
   "nbconvert_exporter": "python",
   "pygments_lexer": "ipython3",
   "version": "3.5.3"
  }
 },
 "nbformat": 4,
 "nbformat_minor": 2
}
