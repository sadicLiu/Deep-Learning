{
 "cells": [
  {
   "cell_type": "markdown",
   "metadata": {},
   "source": [
    "### init"
   ]
  },
  {
   "cell_type": "code",
   "execution_count": 7,
   "metadata": {
    "collapsed": true
   },
   "outputs": [],
   "source": [
    "import tensorflow as tf\n",
    "# NumPy is often used to load, manipulate and preprocess data.\n",
    "import numpy as np"
   ]
  },
  {
   "cell_type": "markdown",
   "metadata": {},
   "source": [
    "### features\n",
    "- Declare list of features. \n",
    "- We only have one real-valued feature. There are many other types of columns that are more complicated and useful."
   ]
  },
  {
   "cell_type": "code",
   "execution_count": 8,
   "metadata": {
    "collapsed": true
   },
   "outputs": [],
   "source": [
    "features = [tf.contrib.layers.real_valued_column(\"x\", dimension=1)]"
   ]
  },
  {
   "cell_type": "markdown",
   "metadata": {},
   "source": [
    "### estimator\n",
    "- An estimator is the front end to invoke training (fitting) and evaluation (inference). \n",
    "- There are many predefined types like linear regression, logistic regression, linear classification, logistic classification, and many neural network classifiers and regressors. \n",
    "- The following code provides an estimator that does linear regression.\n",
    "- 这个model_dir参数最好设置在当前目录"
   ]
  },
  {
   "cell_type": "code",
   "execution_count": 9,
   "metadata": {},
   "outputs": [
    {
     "name": "stdout",
     "output_type": "stream",
     "text": [
      "INFO:tensorflow:Using default config.\n",
      "INFO:tensorflow:Using config: {'_keep_checkpoint_max': 5, '_task_type': None, '_tf_config': gpu_options {\n",
      "  per_process_gpu_memory_fraction: 1\n",
      "}\n",
      ", '_num_ps_replicas': 0, '_tf_random_seed': None, '_save_summary_steps': 100, '_environment': 'local', '_model_dir': './output', '_evaluation_master': '', '_task_id': 0, '_num_worker_replicas': 0, '_is_chief': True, '_master': '', '_cluster_spec': <tensorflow.python.training.server_lib.ClusterSpec object at 0x000001A050361F98>, '_save_checkpoints_steps': None, '_save_checkpoints_secs': 600, '_session_config': None, '_keep_checkpoint_every_n_hours': 10000}\n"
     ]
    }
   ],
   "source": [
    "estimator = tf.contrib.learn.LinearRegressor(feature_columns=features, model_dir='./output')"
   ]
  },
  {
   "cell_type": "markdown",
   "metadata": {},
   "source": [
    "### data\n",
    "- TensorFlow provides many helper methods to read and set up data sets.\n",
    "- Here we use two data sets: one for training and one for evaluation\n",
    "- We have to tell the function how many batches of data (num_epochs) we want and how big each batch should be."
   ]
  },
  {
   "cell_type": "code",
   "execution_count": 10,
   "metadata": {
    "collapsed": true
   },
   "outputs": [],
   "source": [
    "x_train = np.array([1., 2., 3., 4.])\n",
    "y_train = np.array([0., -1., -2., -3.])\n",
    "x_eval = np.array([2., 5., 8., 1.])\n",
    "y_eval = np.array([-1.01, -4.1, -7, 0.])\n",
    "\n",
    "input_fn = tf.contrib.learn.io.numpy_input_fn(\n",
    "    {\"x\":x_train}, y_train,batch_size=4,num_epochs=1000)\n",
    "\n",
    "eval_input_fn = tf.contrib.learn.io.numpy_input_fn(\n",
    "    {\"x\":x_eval}, y_eval, batch_size=4, num_epochs=1000)"
   ]
  },
  {
   "cell_type": "markdown",
   "metadata": {},
   "source": [
    "### train\n",
    "- We can invoke 1000 training steps by invoking the method and passing the training data set."
   ]
  },
  {
   "cell_type": "code",
   "execution_count": 11,
   "metadata": {},
   "outputs": [
    {
     "name": "stdout",
     "output_type": "stream",
     "text": [
      "WARNING:tensorflow:From d:\\program files\\python35\\lib\\site-packages\\tensorflow\\contrib\\learn\\python\\learn\\estimators\\head.py:625: scalar_summary (from tensorflow.python.ops.logging_ops) is deprecated and will be removed after 2016-11-30.\n",
      "Instructions for updating:\n",
      "Please switch to tf.summary.scalar. Note that tf.summary.scalar uses the node name instead of the tag. This means that TensorFlow will automatically de-duplicate summary names based on the scope they are created in. Also, passing a tensor or list of tags to a scalar summary op is no longer supported.\n",
      "INFO:tensorflow:Create CheckpointSaverHook.\n",
      "INFO:tensorflow:Restoring parameters from ./output\\model.ckpt-5800\n",
      "INFO:tensorflow:Saving checkpoints for 5801 into ./output\\model.ckpt.\n",
      "INFO:tensorflow:loss = 1.42109e-13, step = 5801\n",
      "INFO:tensorflow:global_step/sec: 813.256\n",
      "INFO:tensorflow:loss = 1.42109e-13, step = 5901 (0.123 sec)\n",
      "INFO:tensorflow:global_step/sec: 1000.46\n",
      "INFO:tensorflow:loss = 0.0, step = 6001 (0.098 sec)\n",
      "INFO:tensorflow:global_step/sec: 999.729\n",
      "INFO:tensorflow:loss = 1.42109e-13, step = 6101 (0.100 sec)\n",
      "INFO:tensorflow:global_step/sec: 1194.76\n",
      "INFO:tensorflow:loss = 7.10543e-14, step = 6201 (0.084 sec)\n",
      "INFO:tensorflow:global_step/sec: 920.254\n",
      "INFO:tensorflow:loss = 4.26326e-14, step = 6301 (0.111 sec)\n",
      "INFO:tensorflow:global_step/sec: 961.183\n",
      "INFO:tensorflow:loss = 1.42109e-14, step = 6401 (0.104 sec)\n",
      "INFO:tensorflow:global_step/sec: 1008.37\n",
      "INFO:tensorflow:loss = 5.68434e-14, step = 6501 (0.100 sec)\n",
      "INFO:tensorflow:global_step/sec: 1122.14\n",
      "INFO:tensorflow:loss = 5.68434e-14, step = 6601 (0.086 sec)\n",
      "INFO:tensorflow:global_step/sec: 1219.59\n",
      "INFO:tensorflow:loss = 9.9476e-14, step = 6701 (0.083 sec)\n",
      "INFO:tensorflow:Saving checkpoints for 6800 into ./output\\model.ckpt.\n",
      "INFO:tensorflow:Loss for final step: 7.10543e-14.\n"
     ]
    },
    {
     "data": {
      "text/plain": [
       "LinearRegressor(params={'feature_columns': [_RealValuedColumn(column_name='x', dimension=1, default_value=None, dtype=tf.float32, normalizer=None)], 'gradient_clip_norm': None, 'optimizer': None, 'head': <tensorflow.contrib.learn.python.learn.estimators.head._RegressionHead object at 0x000001A04B466F60>, 'joint_weights': False})"
      ]
     },
     "execution_count": 11,
     "metadata": {},
     "output_type": "execute_result"
    }
   ],
   "source": [
    "estimator.fit(input_fn=input_fn, steps=1000)"
   ]
  },
  {
   "cell_type": "markdown",
   "metadata": {},
   "source": [
    "### evaluate"
   ]
  },
  {
   "cell_type": "code",
   "execution_count": 12,
   "metadata": {},
   "outputs": [
    {
     "name": "stdout",
     "output_type": "stream",
     "text": [
      "WARNING:tensorflow:From d:\\program files\\python35\\lib\\site-packages\\tensorflow\\contrib\\learn\\python\\learn\\estimators\\head.py:625: scalar_summary (from tensorflow.python.ops.logging_ops) is deprecated and will be removed after 2016-11-30.\n",
      "Instructions for updating:\n",
      "Please switch to tf.summary.scalar. Note that tf.summary.scalar uses the node name instead of the tag. This means that TensorFlow will automatically de-duplicate summary names based on the scope they are created in. Also, passing a tensor or list of tags to a scalar summary op is no longer supported.\n",
      "INFO:tensorflow:Starting evaluation at 2017-06-20-02:39:34\n",
      "INFO:tensorflow:Restoring parameters from ./output\\model.ckpt-6800\n",
      "INFO:tensorflow:Finished evaluation at 2017-06-20-02:39:35\n",
      "INFO:tensorflow:Saving dict for global step 6800: global_step = 6800, loss = 8.52651e-14\n",
      "WARNING:tensorflow:From d:\\program files\\python35\\lib\\site-packages\\tensorflow\\contrib\\learn\\python\\learn\\estimators\\head.py:625: scalar_summary (from tensorflow.python.ops.logging_ops) is deprecated and will be removed after 2016-11-30.\n",
      "Instructions for updating:\n",
      "Please switch to tf.summary.scalar. Note that tf.summary.scalar uses the node name instead of the tag. This means that TensorFlow will automatically de-duplicate summary names based on the scope they are created in. Also, passing a tensor or list of tags to a scalar summary op is no longer supported.\n",
      "INFO:tensorflow:Starting evaluation at 2017-06-20-02:39:35\n",
      "INFO:tensorflow:Restoring parameters from ./output\\model.ckpt-6800\n",
      "INFO:tensorflow:Finished evaluation at 2017-06-20-02:39:36\n",
      "INFO:tensorflow:Saving dict for global step 6800: global_step = 6800, loss = 0.00252501\n",
      "train loss: {'global_step': 6800, 'loss': 8.5265128e-14}\n",
      "eval loss: {'global_step': 6800, 'loss': 0.0025250085}\n"
     ]
    }
   ],
   "source": [
    "train_loss = estimator.evaluate(input_fn=input_fn)\n",
    "eval_loss = estimator.evaluate(input_fn=eval_input_fn)\n",
    "\n",
    "print(\"train loss: %r\"% train_loss)\n",
    "print(\"eval loss: %r\"% eval_loss)"
   ]
  }
 ],
 "metadata": {
  "kernelspec": {
   "display_name": "Python 3",
   "language": "python",
   "name": "python3"
  },
  "language_info": {
   "codemirror_mode": {
    "name": "ipython",
    "version": 3
   },
   "file_extension": ".py",
   "mimetype": "text/x-python",
   "name": "python",
   "nbconvert_exporter": "python",
   "pygments_lexer": "ipython3",
   "version": "3.5.3"
  }
 },
 "nbformat": 4,
 "nbformat_minor": 2
}
